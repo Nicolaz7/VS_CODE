{
 "cells": [
  {
   "cell_type": "code",
   "execution_count": 25,
   "metadata": {},
   "outputs": [
    {
     "name": "stdout",
     "output_type": "stream",
     "text": [
      "O computador diz: hi\n",
      "função global teste: hi\n"
     ]
    }
   ],
   "source": [
    "# def -> palavra chave para definir uma função\n",
    "# nome -> nome da função\n",
    "# (argumentos): -> não são obrigatórios\n",
    "# instruções da função \n",
    "# return -> o que a função deve retornar\n",
    "# global var_nome -> para que uma variável que foi declarada em uma função seja usada no código todo devemos usar global antes do nome dela\n",
    "\n",
    "def function_ola():\n",
    "    global oi \n",
    "    oi = 'hi'\n",
    "    print(f'O computador diz: {oi}')\n",
    "\n",
    "# chamar a função # \n",
    "function_ola()\n",
    "\n",
    "# testar variável global #\n",
    "print(f'função global teste: {oi}')"
   ]
  },
  {
   "cell_type": "code",
   "execution_count": null,
   "metadata": {},
   "outputs": [],
   "source": []
  }
 ],
 "metadata": {
  "kernelspec": {
   "display_name": "Python 3",
   "language": "python",
   "name": "python3"
  },
  "language_info": {
   "codemirror_mode": {
    "name": "ipython",
    "version": 3
   },
   "file_extension": ".py",
   "mimetype": "text/x-python",
   "name": "python",
   "nbconvert_exporter": "python",
   "pygments_lexer": "ipython3",
   "version": "3.12.2"
  }
 },
 "nbformat": 4,
 "nbformat_minor": 2
}
