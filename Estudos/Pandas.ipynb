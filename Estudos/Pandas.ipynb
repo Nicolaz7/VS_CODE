{
 "cells": [
  {
   "cell_type": "code",
   "execution_count": 1,
   "metadata": {},
   "outputs": [
    {
     "name": "stderr",
     "output_type": "stream",
     "text": [
      "Traceback (most recent call last):\n",
      "  File \"<frozen runpy>\", line 198, in _run_module_as_main\n",
      "  File \"<frozen runpy>\", line 88, in _run_code\n",
      "  File \"C:\\Users\\nicol\\AppData\\Local\\Programs\\Python\\Python312\\Scripts\\pip3.exe\\__main__.py\", line 4, in <module>\n",
      "ModuleNotFoundError: No module named 'pip'\n"
     ]
    }
   ],
   "source": [
    "!pip3 install pandas "
   ]
  },
  {
   "cell_type": "code",
   "execution_count": 2,
   "metadata": {},
   "outputs": [
    {
     "name": "stderr",
     "output_type": "stream",
     "text": [
      "C:\\Users\\nicol\\AppData\\Local\\Temp\\ipykernel_1180\\4080736814.py:1: DeprecationWarning: \n",
      "Pyarrow will become a required dependency of pandas in the next major release of pandas (pandas 3.0),\n",
      "(to allow more performant data types, such as the Arrow string type, and better interoperability with other libraries)\n",
      "but was not found to be installed on your system.\n",
      "If this would cause problems for you,\n",
      "please provide us feedback at https://github.com/pandas-dev/pandas/issues/54466\n",
      "        \n",
      "  import pandas as pd\n"
     ]
    }
   ],
   "source": [
    "import pandas as pd"
   ]
  },
  {
   "cell_type": "code",
   "execution_count": null,
   "metadata": {},
   "outputs": [],
   "source": [
    "# leitura de arquivos .CSV # \n",
    "df = pd.read_csv('caminho_arquivo.csv', sep='separador')\n",
    "df = pd.read_csv ('vendas_202005.csv', set = ';')\n",
    "\n",
    "# leitura de arquivos .XLSX # \n",
    "df = pd.read_excel('caminho_arquivo.xlsx', sheet_name='guia') # selecionando uma aba do excel #\n",
    "df = pd.read_excel ('vendas_202005.xlsx', sheet_name = 'Jan')\n"
   ]
  },
  {
   "cell_type": "code",
   "execution_count": null,
   "metadata": {},
   "outputs": [],
   "source": [
    "# visualização prévia para ver e compreender o dataframe #\n",
    "df.head (10)\n"
   ]
  },
  {
   "cell_type": "code",
   "execution_count": null,
   "metadata": {},
   "outputs": [],
   "source": [
    "# \"pivotar a tabela (Trocar colunas por linhas e linhas por colunas) #\n",
    "df.T\n"
   ]
  },
  {
   "cell_type": "code",
   "execution_count": null,
   "metadata": {},
   "outputs": [],
   "source": [
    "# Quantidade de linhas e colunas # \n",
    "df.shape\n"
   ]
  },
  {
   "cell_type": "code",
   "execution_count": null,
   "metadata": {},
   "outputs": [],
   "source": [
    "# Informações do dataframe #\n",
    "df.info ()\n"
   ]
  },
  {
   "cell_type": "code",
   "execution_count": null,
   "metadata": {},
   "outputs": [],
   "source": [
    "# Medidas estátisticas # \n",
    "df.describe()\n"
   ]
  },
  {
   "cell_type": "code",
   "execution_count": null,
   "metadata": {},
   "outputs": [],
   "source": [
    "## Manipulação de Colunas ##\n",
    "\n",
    "# Criar Colunas #\n",
    "df['nome_da_coluna'] =  'pao' #valor ou condição que retorna um valor #\n",
    "df['nm_mes'] = df['data'].dt.month_name()\n",
    "\n",
    "# Deletar Colunas #\n",
    "del df['nome_da_coluna']\n",
    "\n",
    "# Filtrar dataframe # \n",
    "df[(df['date'] >= '2020-05-01') & (df['date'] <= '2020-05-31')]\n",
    "\n",
    "# Pivotando a tabela # \n",
    "pd.pivot_table(df  # Nome do DataFrame \n",
    "               , index='dia'  # Linhas \n",
    "               , columns='month_nm'  # Colunas \n",
    "               , values='price'  # Valor \n",
    "               , aggfunc='mean'  # Função de Agregação \n",
    "               )\n",
    "# Agrupamento dos dados # \n",
    "result_df = df.groupby(['month_nm', 'day']).agg({\n",
    "    'price': 'mean',   # Média dos preços\n",
    "    'order_id': 'count'  # Contagem de pedidos\n",
    "}).reset_index()"
   ]
  },
  {
   "cell_type": "code",
   "execution_count": 3,
   "metadata": {},
   "outputs": [
    {
     "name": "stderr",
     "output_type": "stream",
     "text": [
      "Traceback (most recent call last):\n",
      "  File \"<frozen runpy>\", line 198, in _run_module_as_main\n",
      "  File \"<frozen runpy>\", line 88, in _run_code\n",
      "  File \"C:\\Users\\nicol\\AppData\\Local\\Programs\\Python\\Python312\\Scripts\\pip3.exe\\__main__.py\", line 4, in <module>\n",
      "ModuleNotFoundError: No module named 'pip'\n"
     ]
    }
   ],
   "source": [
    "!pip3 install matplotlib"
   ]
  },
  {
   "cell_type": "code",
   "execution_count": null,
   "metadata": {},
   "outputs": [],
   "source": [
    "## Data Visualization ## \n",
    "\n",
    "import matplotlib.pyplot as plt\n",
    "\n",
    "# Boxplot #\n",
    "ax = df.boxplot(column=['preço'])\n",
    "\n",
    "# Gráfico em barras # \n",
    "ax = df.plot.bar(x='mês', y='preço', figsize=(16, 5), rot=0)\n",
    "\n",
    "# Gráfico em Linhas # \n",
    "ax = df.plot.line(x='data', y='preço', figsize=(16, 5), marker='o', legend=['preço'])\n",
    "\n",
    "ax.set_xlabel('Data') # Adicione rótulos aos eixos\n",
    "ax.set_ylabel('Price') #  Adicione rótulos aos eixos\n",
    "ax.set_title('Dia após dia x Preço total de venda') # Adicione um título ao gráfico\n",
    "\n",
    "# Histograma # \n",
    "ax = df['preço'].hist(figsize=(10, 5))\n",
    "\n",
    "plt.xlabel('Preço') # Adicione rótulos aos eixos x e y\n",
    "plt.ylabel('Frequência')\n",
    "plt.title('Histograma de Preços') # Adicione um título ao gráfico\n"
   ]
  }
 ],
 "metadata": {
  "kernelspec": {
   "display_name": "Python 3",
   "language": "python",
   "name": "python3"
  },
  "language_info": {
   "codemirror_mode": {
    "name": "ipython",
    "version": 3
   },
   "file_extension": ".py",
   "mimetype": "text/x-python",
   "name": "python",
   "nbconvert_exporter": "python",
   "pygments_lexer": "ipython3",
   "version": "3.12.1"
  }
 },
 "nbformat": 4,
 "nbformat_minor": 2
}
