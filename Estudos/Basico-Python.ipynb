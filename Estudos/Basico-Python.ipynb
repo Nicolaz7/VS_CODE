{
 "cells": [
  {
   "cell_type": "code",
   "execution_count": null,
   "metadata": {},
   "outputs": [],
   "source": [
    "# if em python\n",
    "\n",
    "a = int(input('insira seu valor:'))\n",
    "# no uso de input, precisa declarar o tipo de variável que será inserida antes do input\n",
    "\n",
    "if a > 10:\n",
    "  print('maior que 10')\n",
    "\n",
    "else: print('valor menor ou igual a 10')\n"
   ]
  },
  {
   "cell_type": "code",
   "execution_count": null,
   "metadata": {},
   "outputs": [],
   "source": [
    "# string\n",
    "a = 'oi'\n",
    "\n",
    "# int\n",
    "b = 1\n",
    "\n",
    "# float\n",
    "c = 7.1\n",
    "\n",
    "# boolean\n",
    "d = True # False\n",
    "\n",
    "# saber o tipo da variável\n",
    "\n",
    "print(type(d)) # inserir o nome da variável"
   ]
  },
  {
   "cell_type": "code",
   "execution_count": null,
   "metadata": {},
   "outputs": [],
   "source": [
    "# fazer contas\n",
    "a = 2\n",
    "b = 5\n",
    "\n",
    "# soma\n",
    "x = a + b\n",
    "\n",
    "# subtração\n",
    "x = a - b\n",
    "\n",
    "# divisão\n",
    "x = a / b\n",
    "\n",
    "# multiplicação\n",
    "x = a * b\n",
    "\n",
    "# exponenciação\n",
    "x = a**b\n",
    "\n",
    "# resto de uma divisão\n",
    "x1 = a % b"
   ]
  },
  {
   "cell_type": "code",
   "execution_count": null,
   "metadata": {},
   "outputs": [],
   "source": [
    "# operação booleana\n",
    "\n",
    "# maior | maior igual = >=\n",
    "x = a > b\n",
    "\n",
    "# menor\n",
    "x = a < b\n",
    "\n",
    "# igual\n",
    "x = a == b\n",
    "\n",
    "# diferente\n",
    "x = a != b"
   ]
  },
  {
   "cell_type": "code",
   "execution_count": null,
   "metadata": {},
   "outputs": [],
   "source": [
    "# listas\n",
    "\n",
    "lista = []\n",
    "\n",
    "lista = [1,2,3]\n",
    "\n",
    "# tamanho da lista\n",
    "len(lista) # 0, 1, 2 = 3"
   ]
  },
  {
   "cell_type": "code",
   "execution_count": null,
   "metadata": {},
   "outputs": [],
   "source": [
    "v = 1\n",
    "p = 2\n",
    "\n",
    "while p != 0:\n",
    "  # irá repetir o código até uma condição de parada acontecer\n",
    "  print('parou')\n"
   ]
  },
  {
   "cell_type": "code",
   "execution_count": null,
   "metadata": {},
   "outputs": [],
   "source": [
    "for i in range(0,6):\n",
    "   # laço de repetição | enquanto i não estiver no range de 0,6, repita.\n",
    "  print(i)"
   ]
  },
  {
   "cell_type": "code",
   "execution_count": null,
   "metadata": {},
   "outputs": [],
   "source": [
    "# arredondar numeros decimais que não necessitam de precisão\n",
    "\n",
    "lista_teste = [1.24444, 1.263, 1.53233, 1.60054]\n",
    "\n",
    "def arredondar(lista):\n",
    "  return [round(valor, 2) for valor in lista]\n",
    "\n",
    "lista_ajustada = arredondar(lista_teste)\n",
    "\n",
    "print(lista_ajustada)"
   ]
  },
  {
   "cell_type": "code",
   "execution_count": null,
   "metadata": {},
   "outputs": [],
   "source": [
    "# arredondar numeros decimais que necessitam de precisão\n",
    "from decimal import Decimal,ROUND_HALF_UP\n",
    "\n",
    "lista_teste = [1.24444, 1.263, 1.53233, 1.60054]\n",
    "\n",
    "def arredondar(lista):\n",
    "  return [Decimal(valor).quantize(Decimal('0.00')) for valor in lista]\n",
    "\n",
    "lista_ajustada = arredondar(lista_teste)\n",
    "\n",
    "print(lista_ajustada)"
   ]
  }
 ],
 "metadata": {
  "language_info": {
   "name": "python"
  }
 },
 "nbformat": 4,
 "nbformat_minor": 2
}
