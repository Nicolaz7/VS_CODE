{
 "cells": [
  {
   "cell_type": "code",
   "execution_count": null,
   "metadata": {},
   "outputs": [],
   "source": [
    "from datetime import *"
   ]
  },
  {
   "cell_type": "code",
   "execution_count": null,
   "metadata": {},
   "outputs": [],
   "source": [
    "data_hoje = date.today()\n",
    "\n",
    "print(data_hoje) # 'AAAA-MM-DD'\n",
    "print(type(data_hoje)) # date"
   ]
  },
  {
   "cell_type": "code",
   "execution_count": null,
   "metadata": {},
   "outputs": [],
   "source": [
    "data_hoje = date.today()\n",
    "\n",
    "# formatar para ficar no padrão BR 'DD-MM-AAAA'\n",
    "data_texto = data_hoje.strftime('%d-%m-%Y')\n",
    "\n",
    "print(data_texto)\n",
    "print(type(data_texto)) # string"
   ]
  },
  {
   "cell_type": "code",
   "execution_count": null,
   "metadata": {},
   "outputs": [],
   "source": [
    "# adicionado hora\n",
    "\n",
    "data_hora_hoje = datetime.now()\n",
    "\n",
    "data_hora_hoje_str = data_hora_hoje.strftime('%d-%m-%Y | %H:%M')\n",
    "\n",
    "print(data_hora_hoje_str)\n",
    "print(type(data_hora_hoje_str))"
   ]
  },
  {
   "cell_type": "code",
   "execution_count": null,
   "metadata": {},
   "outputs": [],
   "source": [
    "exemplo = '09-04-2024 | 12:59'\n",
    "\n",
    "data_hora_hoje_data = datetime.strptime(data_hora_hoje_str, '%d-%m-%Y | %H:%M')\n",
    "\n",
    "print(exemplo)\n",
    "print(type(exemplo))\n",
    "\n",
    "print(data_hora_hoje_data)\n",
    "print(type(data_hora_hoje_data))"
   ]
  },
  {
   "cell_type": "code",
   "execution_count": null,
   "metadata": {},
   "outputs": [],
   "source": [
    "# formatando timezone\n",
    "data_hora_hoje = datetime.now()\n",
    "\n",
    "fuso_horario = timedelta(hours=-3) # '-3' = timezone do brasil horário de brasilia\n",
    "\n",
    "adicionar_fuso = timezone(fuso_horario)\n",
    "print(adicionar_fuso)\n",
    "print(type(adicionar_fuso))\n",
    "\n",
    "data_hora_padrao_sp = data_hora_hoje.astimezone(adicionar_fuso)\n",
    "print(data_hora_padrao_sp)\n",
    "print(type(data_hora_padrao_sp))\n",
    "\n",
    "data_hora_padrao_sp_texto = data_hora_padrao_sp.strftime('%d-%m-%Y | %H:%M')\n",
    "print(data_hora_padrao_sp_texto)\n",
    "print(type(data_hora_padrao_sp_texto))"
   ]
  },
  {
   "cell_type": "code",
   "execution_count": null,
   "metadata": {},
   "outputs": [],
   "source": [
    "from pyspark.sql import SparkSession\n",
    "from pyspark.sql.functions import udf\n",
    "from pyspark.sql.types import DateType\n",
    "from datetime import datetime\n",
    "\n",
    "# DataFrame de exemplo\n",
    "data = [(\"09-04-2024\",)]\n",
    "df = spark.createDataFrame(data, [\"data_string\"])\n",
    "\n",
    "# Função definida pelo usuário para converter a string em data\n",
    "def string_to_date(date_str):\n",
    "    return datetime.strptime(date_str, '%d-%m-%Y').date()\n",
    "\n",
    "# Registre a função como uma UDF\n",
    "string_to_date_udf = udf(string_to_date, DateType())\n",
    "\n",
    "# Adicione uma nova coluna convertendo a coluna 'data_string' para o tipo de data\n",
    "df = df.withColumn(\"data\", string_to_date_udf(df[\"data_string\"]))\n",
    "\n",
    "# Exibir o DataFrame resultante\n",
    "df.show()\n",
    "df.printSchema()"
   ]
  }
 ],
 "metadata": {
  "language_info": {
   "name": "python"
  }
 },
 "nbformat": 4,
 "nbformat_minor": 2
}
