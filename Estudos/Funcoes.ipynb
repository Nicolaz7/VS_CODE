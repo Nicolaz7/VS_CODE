{
 "cells": [
  {
   "cell_type": "code",
   "execution_count": 8,
   "metadata": {},
   "outputs": [],
   "source": [
    "# exemplo de dados de um dicionario\n",
    "produtos_dict = {'usuarios_coluna' : ['ab123 ', ' acd ', 'ABD123 ', ' ABC1']}\n",
    "# nome_variavel = {'nome_coluna' : ['dados', 'da', 'coluna']}\n",
    "\n",
    "# exemplo de function para formatar o texto para um mesmo formato # \n",
    "def alterar_linha(texto_linha): # def nome_funcao(valor_que_modificaremos):\n",
    "    texto_linha = texto_linha.upper() # case sensitive \n",
    "    texto_linha = texto_linha.strip() # retirar espacos \n",
    "    return texto_linha # retornar o valor alterado\n",
    "\n",
    "# aplicar o tratamento para cada linha do dicionario # \n",
    "produtos_dict['usuarios_coluna'] = [alterar_linha(usuario_linha) for usuario_linha in produtos_dict['usuarios_coluna']] \n",
    "# variavel['coluna_que_tera_valores_alterados'] = [funcao_criada(valor_que_modificaremos) cada_usuario em dicionario_criado['na_coluna_que_sera_alterada']]\n",
    "# ou seja, a coluna usuarios tera a funcao_texto aplicada em cada linha da coluna usuario # "
   ]
  },
  {
   "cell_type": "code",
   "execution_count": 11,
   "metadata": {},
   "outputs": [
    {
     "name": "stdout",
     "output_type": "stream",
     "text": [
      "['AB123', 'ACD', 'ABD123', 'ABC1']\n"
     ]
    }
   ],
   "source": [
    "print(produtos_dict['usuarios_coluna'])"
   ]
  },
  {
   "cell_type": "code",
   "execution_count": 4,
   "metadata": {},
   "outputs": [
    {
     "name": "stdout",
     "output_type": "stream",
     "text": [
      "O resultado da operação é: 4.0\n"
     ]
    }
   ],
   "source": [
    "# Definindo a função que realiza cálculos matemáticos #\n",
    "def calcular_operacao(valor1, valor2, operacao):\n",
    "    # Verificando a operação desejada e realizando o cálculo correspondente #\n",
    "    if operacao == 'soma':\n",
    "        resultado = valor1 + valor2\n",
    "    elif operacao == 'subtracao':\n",
    "        resultado = valor1 - valor2\n",
    "    elif operacao == 'multiplicacao':\n",
    "        resultado = valor1 * valor2\n",
    "    elif operacao == 'divisao':\n",
    "        resultado = valor1 / valor2\n",
    "    else:\n",
    "        resultado = 'Operação inválida'  # Caso a operação inserida não seja reconhecida #\n",
    "    \n",
    "    return resultado  # Retornando o resultado da operação #\n",
    "\n",
    "# Solicitando valores e operação ao usuário #\n",
    "num1 = float(input('Digite o primeiro valor: '))  # Solicita o primeiro número ao usuário\n",
    "num2 = float(input('Digite o segundo valor: '))  # Solicita o segundo número ao usuário\n",
    "op = input('Escolha a operação (soma, subtracao, multiplicacao, divisao): ')  # Solicita a operação desejada ao usuário\n",
    "\n",
    "# Chamando a função e armazenando o resultado #\n",
    "resultado = calcular_operacao(num1, num2, op)\n",
    "\n",
    "# Exibindo o resultado #\n",
    "print(f'O resultado da operação é: {resultado}')\n"
   ]
  },
  {
   "cell_type": "code",
   "execution_count": null,
   "metadata": {},
   "outputs": [],
   "source": []
  }
 ],
 "metadata": {
  "kernelspec": {
   "display_name": "Python 3",
   "language": "python",
   "name": "python3"
  },
  "language_info": {
   "codemirror_mode": {
    "name": "ipython",
    "version": 3
   },
   "file_extension": ".py",
   "mimetype": "text/x-python",
   "name": "python",
   "nbconvert_exporter": "python",
   "pygments_lexer": "ipython3",
   "version": "3.12.2"
  }
 },
 "nbformat": 4,
 "nbformat_minor": 2
}
