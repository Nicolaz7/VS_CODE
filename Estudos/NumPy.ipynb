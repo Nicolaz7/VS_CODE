{
 "cells": [
  {
   "cell_type": "code",
   "execution_count": 1,
   "metadata": {},
   "outputs": [
    {
     "name": "stderr",
     "output_type": "stream",
     "text": [
      "Traceback (most recent call last):\n",
      "  File \"<frozen runpy>\", line 198, in _run_module_as_main\n",
      "  File \"<frozen runpy>\", line 88, in _run_code\n",
      "  File \"C:\\Users\\nicol\\AppData\\Local\\Programs\\Python\\Python312\\Scripts\\pip3.exe\\__main__.py\", line 4, in <module>\n",
      "ModuleNotFoundError: No module named 'pip'\n"
     ]
    }
   ],
   "source": [
    "!pip3 install numpy"
   ]
  },
  {
   "cell_type": "code",
   "execution_count": 4,
   "metadata": {},
   "outputs": [
    {
     "name": "stdout",
     "output_type": "stream",
     "text": [
      "[1 2 3 4 5]\n",
      "(5,)\n"
     ]
    }
   ],
   "source": [
    "# Array Unidimensional (Unico Eixo) #\n",
    "import numpy as np \n",
    "my_array = np.array([1, 2, 3, 4, 5]) \n",
    "print(my_array)\n",
    "\n",
    "# forma do array # \n",
    "my_array = np.array([1, 2, 3, 4, 5])\n",
    "print(my_array.shape)\n"
   ]
  },
  {
   "cell_type": "code",
   "execution_count": 13,
   "metadata": {},
   "outputs": [
    {
     "name": "stdout",
     "output_type": "stream",
     "text": [
      "[[1 2 3 4 5]\n",
      " [1 2 3 4 5]]\n",
      "(2, 5)\n"
     ]
    }
   ],
   "source": [
    "# Array Bidimensional (Dois Eixos) #\n",
    "my_array = np.array([[1, 2, 3, 4, 5], [1, 2, 3, 4, 5]]) \n",
    "print(my_array)\n",
    "\n",
    "# forma do array # \n",
    "\n",
    "print(my_array.shape)\n"
   ]
  },
  {
   "cell_type": "code",
   "execution_count": 10,
   "metadata": {},
   "outputs": [
    {
     "name": "stdout",
     "output_type": "stream",
     "text": [
      "[[0 1]\n",
      " [2 3]\n",
      " [4 5]]\n",
      "[1 2 3 4 5]\n",
      "[1 2 3 4 5]\n"
     ]
    }
   ],
   "source": [
    "# Redimensionando o Array #\n",
    "a = np.arange(6).reshape((3, 2))\n",
    "print(a)\n",
    "\n",
    "# imprimindo cada posição do array #\n",
    "print(my_array[0]) \n",
    "print(my_array[1]) "
   ]
  },
  {
   "cell_type": "code",
   "execution_count": 14,
   "metadata": {},
   "outputs": [
    {
     "name": "stdout",
     "output_type": "stream",
     "text": [
      "[[-1  2  3  4  5]\n",
      " [ 1  2  3  4  5]]\n"
     ]
    }
   ],
   "source": [
    "# alterando o valor do array # \n",
    "my_array[0][0] = -1 \n",
    "print(my_array)"
   ]
  },
  {
   "cell_type": "code",
   "execution_count": 23,
   "metadata": {},
   "outputs": [
    {
     "name": "stdout",
     "output_type": "stream",
     "text": [
      "[[-1398854576         576]\n",
      " [          0           0]\n",
      " [          1           0]]\n"
     ]
    }
   ],
   "source": [
    "# Criar Array vazio #\n",
    "import numpy as np \n",
    "xd = np.empty([3,2], dtype = int) \n",
    "print(xd)"
   ]
  },
  {
   "cell_type": "code",
   "execution_count": 24,
   "metadata": {},
   "outputs": [
    {
     "name": "stdout",
     "output_type": "stream",
     "text": [
      "[0. 0. 0. 0. 0.]\n"
     ]
    }
   ],
   "source": [
    "# Criar Array que volta apenas 0 #\n",
    "my_new_array = np.zeros((5)) \n",
    "print(my_new_array)\n"
   ]
  },
  {
   "cell_type": "code",
   "execution_count": 29,
   "metadata": {},
   "outputs": [
    {
     "name": "stdout",
     "output_type": "stream",
     "text": [
      "[0.33574611 0.26256305 0.32040628 0.03887882 0.5524298 ]\n",
      "[[2. 2. 6. 2.]\n",
      " [4. 0. 8. 0.]\n",
      " [8. 9. 5. 4.]]\n"
     ]
    }
   ],
   "source": [
    "# Criar um Array com números aleatórios # \n",
    "my_random_array = np.random.random((5)) \n",
    "print(my_random_array)\n",
    "\n",
    "# Criar um Array com números aleatórios dentro de 0 a 10 # \n",
    "a = np.floor(10*np.random.random((3,4))) \n",
    "print(a)\n"
   ]
  },
  {
   "cell_type": "code",
   "execution_count": 34,
   "metadata": {},
   "outputs": [
    {
     "name": "stdout",
     "output_type": "stream",
     "text": [
      "22\n",
      "[  2   8  22 127]\n",
      "[ 8 22]\n"
     ]
    }
   ],
   "source": [
    "# Indexação de Array (Selecionarar um arrray ou uma sequência de arrays específicos # \n",
    "my_array2 = np.array([3, 2, 8, 22, 127]) \n",
    "print(my_array2[3]) # selecionar o 4 elemento do array #\n",
    "\n",
    "my_array2 = np.array([3, 2, 8, 22, 127]) \n",
    "print(my_array2[1:]) # selecionar o 2 elemento do array até o último #\n",
    "\n",
    "my_array2 = np.array([3, 2, 8, 22, 127]) \n",
    "print(my_array2[2:4]) # selecionar do 3 elemento ao 5 elemento #"
   ]
  },
  {
   "cell_type": "code",
   "execution_count": 35,
   "metadata": {},
   "outputs": [
    {
     "name": "stdout",
     "output_type": "stream",
     "text": [
      "5\n"
     ]
    }
   ],
   "source": [
    "# selecionar um array em bidimensões #\n",
    "my_array = np.array([[4, 5], [6, 1]])\n",
    "print(my_array[0][1]) \n"
   ]
  },
  {
   "cell_type": "code",
   "execution_count": 36,
   "metadata": {},
   "outputs": [
    {
     "name": "stdout",
     "output_type": "stream",
     "text": [
      "Sum = \n",
      " [[ 6.  8.]\n",
      " [10. 12.]]\n",
      "\n",
      "\n",
      "Difference = \n",
      " [[-4. -4.]\n",
      " [-4. -4.]]\n",
      "\n",
      "\n",
      "Product = \n",
      " [[ 5. 12.]\n",
      " [21. 32.]]\n",
      "\n",
      "\n",
      "Quotient = \n",
      " [[0.2        0.33333333]\n",
      " [0.42857143 0.5       ]]\n"
     ]
    }
   ],
   "source": [
    "# Manipulando os valores de um Array # \n",
    "a = np.array([[1.0, 2.0], [3.0, 4.0]])\n",
    "b = np.array([[5.0, 6.0], [7.0, 8.0]])\n",
    "\n",
    "sum = a + b # Soma\n",
    "difference = a - b # Subtração\n",
    "product = a * b # Multiplicação por elemento #\n",
    "quotient = a / b # Divisão\n",
    "\n",
    "print('Sum = \\n', + sum)\n",
    "print('\\n')\n",
    "print('Difference = \\n', + difference)\n",
    "print('\\n')\n",
    "print('Product = \\n', + product)\n",
    "print('\\n')\n",
    "print('Quotient = \\n', + quotient)"
   ]
  },
  {
   "cell_type": "code",
   "execution_count": 37,
   "metadata": {},
   "outputs": [
    {
     "name": "stdout",
     "output_type": "stream",
     "text": [
      "Matrix Product = \n",
      " [[19. 22.]\n",
      " [43. 50.]]\n"
     ]
    }
   ],
   "source": [
    "# Multiplicação por array #\n",
    "matrix_product = a.dot(b) \n",
    "print('Matrix Product = \\n', + matrix_product)\n"
   ]
  }
 ],
 "metadata": {
  "kernelspec": {
   "display_name": "Python 3",
   "language": "python",
   "name": "python3"
  },
  "language_info": {
   "codemirror_mode": {
    "name": "ipython",
    "version": 3
   },
   "file_extension": ".py",
   "mimetype": "text/x-python",
   "name": "python",
   "nbconvert_exporter": "python",
   "pygments_lexer": "ipython3",
   "version": "3.12.1"
  }
 },
 "nbformat": 4,
 "nbformat_minor": 2
}
