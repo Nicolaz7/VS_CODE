{
 "cells": [
  {
   "cell_type": "code",
   "execution_count": 10,
   "metadata": {},
   "outputs": [
    {
     "name": "stdout",
     "output_type": "stream",
     "text": [
      "goit\n",
      "erro\n"
     ]
    }
   ],
   "source": [
    "d1 = 1\n",
    "d2 = 3\n",
    "d5 = 4\n",
    "\n",
    "if(d2 == d5):\n",
    "    \n",
    "    print('sem atualizacao')\n",
    "\n",
    "else:\n",
    "    print('goit')\n",
    "\n",
    "if (d1 != d2 and d2 != d5):\n",
    "    d1 = 1\n",
    "    d2 = 3\n",
    "    d5 = 5\n",
    "    print('erro')\n",
    "\n",
    "else: \n",
    "    print({d1}, {d2}, {d5})"
   ]
  },
  {
   "cell_type": "code",
   "execution_count": 5,
   "metadata": {},
   "outputs": [
    {
     "name": "stdout",
     "output_type": "stream",
     "text": [
      "data_db\n",
      "table\n",
      "data_db.table\n"
     ]
    }
   ],
   "source": [
    "ENV = 'PRD'\n",
    "\n",
    "CONF = {\n",
    "    'PRD': { \n",
    "        'database':'data_db',\n",
    "        'table':'table'\n",
    "    }\n",
    "}\n",
    "\n",
    "print(CONF[ENV]['database'])\n",
    "print(CONF[ENV]['table'])\n",
    "print(CONF[ENV]['database'] + '.' + CONF[ENV]['table'])"
   ]
  },
  {
   "cell_type": "code",
   "execution_count": null,
   "metadata": {},
   "outputs": [],
   "source": []
  }
 ],
 "metadata": {
  "kernelspec": {
   "display_name": "Python 3",
   "language": "python",
   "name": "python3"
  },
  "language_info": {
   "codemirror_mode": {
    "name": "ipython",
    "version": 3
   },
   "file_extension": ".py",
   "mimetype": "text/x-python",
   "name": "python",
   "nbconvert_exporter": "python",
   "pygments_lexer": "ipython3",
   "version": "3.12.2"
  }
 },
 "nbformat": 4,
 "nbformat_minor": 2
}
